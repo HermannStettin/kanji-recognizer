{
 "cells": [
  {
   "cell_type": "code",
   "execution_count": 8,
   "metadata": {},
   "outputs": [
    {
     "data": {
      "text/plain": [
       "(6400, 64, 64)"
      ]
     },
     "execution_count": 8,
     "metadata": {},
     "output_type": "execute_result"
    }
   ],
   "source": [
    "import numpy as np\n",
    "\n",
    "X = np.load(\"kanji_features.npz\")[\"arr_0\"]\n",
    "y = np.load(\"kanji_labels.npz\")[\"arr_0\"]\n",
    "X.shape"
   ]
  },
  {
   "cell_type": "code",
   "execution_count": 9,
   "metadata": {},
   "outputs": [
    {
     "data": {
      "text/plain": [
       "9250     40\n",
       "9252     40\n",
       "12352    40\n",
       "12353    40\n",
       "12354    40\n",
       "         ..\n",
       "9309     40\n",
       "9310     40\n",
       "9311     40\n",
       "9312     40\n",
       "12409    40\n",
       "Name: count, Length: 160, dtype: int64"
      ]
     },
     "execution_count": 9,
     "metadata": {},
     "output_type": "execute_result"
    }
   ],
   "source": [
    "import pandas as pd\n",
    "\n",
    "pd.DataFrame(y).value_counts()"
   ]
  },
  {
   "cell_type": "code",
   "execution_count": 105,
   "metadata": {},
   "outputs": [
    {
     "data": {
      "image/png": "[encoded data removed]",
      "text/plain": [
       "<Figure size 1000x1000 with 9 Axes>"
      ]
     },
     "metadata": {},
     "output_type": "display_data"
    }
   ],
   "source": [
    "from matplotlib import pyplot as plt\n",
    "import random\n",
    "\n",
    "def plot_character(character_id):\n",
    "    plt.figure(figsize=(10, 10))\n",
    "    for i in range(9):\n",
    "        plt.subplot(3, 3, i + 1)\n",
    "        idx = random.randrange(0, 120)\n",
    "        plt.imshow(X[character_id * idx], cmap=\"gray\")\n",
    "        plt.title(y[character_id * idx])\n",
    "        plt.axis(\"off\")\n",
    "\n",
    "plot_character(160)"
   ]
  },
  {
   "cell_type": "code",
   "execution_count": 95,
   "metadata": {},
   "outputs": [
    {
     "name": "stdout",
     "output_type": "stream",
     "text": [
      "9250\n"
     ]
    },
    {
     "data": {
      "image/jpeg": "[encoded data removed]",
      "image/png": "[encoded data removed]",
      "text/plain": [
       "<PIL.Image.Image image mode=L size=64x64>"
      ]
     },
     "execution_count": 95,
     "metadata": {},
     "output_type": "execute_result"
    }
   ],
   "source": [
    "from PIL import Image\n",
    "import numpy as np\n",
    "\n",
    "np.load(\"x_train\")\n",
    "\n",
    "print(y[160*0])\n",
    "Image.fromarray(X[160*0].astype(np.uint8))"
   ]
  },
  {
   "cell_type": "code",
   "execution_count": 79,
   "metadata": {},
   "outputs": [
    {
     "data": {
      "image/jpeg": "[encoded data removed]",
      "image/png": "[encoded data removed]",
      "text/plain": [
       "<PIL.Image.Image image mode=1 size=64x63>"
      ]
     },
     "execution_count": 79,
     "metadata": {},
     "output_type": "execute_result"
    }
   ],
   "source": [
    "import struct\n",
    "from PIL import Image\n",
    "\n",
    "def read_record(f):\n",
    "    block = f.read(576)\n",
    "    record = struct.unpack(\">2H4s504s64s\", block)\n",
    "    return Image.frombytes(\"1\", (64, 63), record[-2], \"raw\")\n",
    "\n",
    "filename = \"data/ETL9B/ETL9B_1\"\n",
    "writer = 2 # writer\n",
    "characters = 1\n",
    "with open(filename, \"rb\") as f:\n",
    "    f.seek((characters) * 576 * writer)\n",
    "    img = read_record(f)\n",
    "    # img = read_record(f)\n",
    "    # img = read_record(f)\n",
    "img"
   ]
  },
  {
   "cell_type": "code",
   "execution_count": 2,
   "metadata": {},
   "outputs": [
    {
     "data": {
      "text/plain": [
       "(1600, 64, 64)"
      ]
     },
     "execution_count": 2,
     "metadata": {},
     "output_type": "execute_result"
    }
   ],
   "source": [
    "import numpy as np\n",
    "from PIL import Image\n",
    "\n",
    "X_train = np.load(\"x_train.npz\")[\"arr_0\"]\n",
    "#Image.fromarray(X_train[0].astype(np.uint8))\n",
    "X_train.shape"
   ]
  },
  {
   "cell_type": "code",
   "execution_count": 3,
   "metadata": {},
   "outputs": [
    {
     "data": {
      "text/plain": [
       "(400, 64, 64)"
      ]
     },
     "execution_count": 3,
     "metadata": {},
     "output_type": "execute_result"
    }
   ],
   "source": [
    "import numpy as np\n",
    "import torch\n",
    "\n",
    "X_train = np.load(\"x_test.npz\")[\"arr_0\"]\n",
    "X_train.shape"
   ]
  },
  {
   "cell_type": "code",
   "execution_count": 11,
   "metadata": {},
   "outputs": [
    {
     "name": "stdout",
     "output_type": "stream",
     "text": [
      "Inner step 0\n",
      "Inner step 1\n",
      "Inner step 2\n",
      "Inner step 3\n",
      "Epoch [1/10], Step [4/total_step], Loss: 4.0000\n",
      "Inner step 0\n",
      "Inner step 1\n",
      "Inner step 2\n",
      "Inner step 3\n",
      "Epoch [2/10], Step [4/total_step], Loss: 4.0000\n",
      "Inner step 0\n",
      "Inner step 1\n",
      "Inner step 2\n",
      "Inner step 3\n",
      "Epoch [3/10], Step [4/total_step], Loss: 4.0000\n",
      "Inner step 0\n",
      "Inner step 1\n",
      "Inner step 2\n",
      "Inner step 3\n",
      "Epoch [4/10], Step [4/total_step], Loss: 4.0000\n",
      "Inner step 0\n",
      "Inner step 1\n",
      "Inner step 2\n",
      "Inner step 3\n",
      "Epoch [5/10], Step [4/total_step], Loss: 4.0000\n",
      "Inner step 0\n",
      "Inner step 1\n",
      "Inner step 2\n",
      "Inner step 3\n",
      "Epoch [6/10], Step [4/total_step], Loss: 4.0000\n",
      "Inner step 0\n",
      "Inner step 1\n",
      "Inner step 2\n",
      "Inner step 3\n",
      "Epoch [7/10], Step [4/total_step], Loss: 4.0000\n",
      "Inner step 0\n",
      "Inner step 1\n",
      "Inner step 2\n",
      "Inner step 3\n",
      "Epoch [8/10], Step [4/total_step], Loss: 4.0000\n",
      "Inner step 0\n",
      "Inner step 1\n",
      "Inner step 2\n",
      "Inner step 3\n",
      "Epoch [9/10], Step [4/total_step], Loss: 4.0000\n",
      "Inner step 0\n",
      "Inner step 1\n",
      "Inner step 2\n",
      "Inner step 3\n",
      "Epoch [10/10], Step [4/total_step], Loss: 4.0000\n"
     ]
    }
   ],
   "source": [
    "num_epochs = 10\n",
    "train_loader = [(0, 10), (1, 20), (2, 30), (3, 40)]\n",
    "for epoch in range(num_epochs):\n",
    "    for i, (images, labels) in enumerate(train_loader):  \n",
    "        # Move tensors to the configured device\n",
    "        loss = 2+2\n",
    "        print(f\"Inner step {i}\")\n",
    "\n",
    "    print ('Epoch [{}/{}], Step [{}/{}], Loss: {:.4f}' \n",
    "                   .format(epoch+1, num_epochs, i+1, \"total_step\", loss))"
   ]
  },
  {
   "cell_type": "code",
   "execution_count": 1,
   "metadata": {},
   "outputs": [],
   "source": [
    "#m_groups     [{'lr': 0.005, 'momentum': 0.9, 'dampening': 0, 'weight_decay': 0.005, 'nesterov': False, 'maximize': False, 'foreach': None, 'differentiable': False, 'params': [0, 1, 2, 3, 4, 5, 6, 7, 8, 9, 10, 11, 12, 13, 14, 15, 16, 17, 18, 19, 20, 21]}]"
   ]
  }
 ],
 "metadata": {
  "kernelspec": {
   "display_name": ".venv",
   "language": "python",
   "name": "python3"
  },
  "language_info": {
   "codemirror_mode": {
    "name": "ipython",
    "version": 3
   },
   "file_extension": ".py",
   "mimetype": "text/x-python",
   "name": "python",
   "nbconvert_exporter": "python",
   "pygments_lexer": "ipython3",
   "version": "3.11.2"
  },
  "orig_nbformat": 4
 },
 "nbformat": 4,
 "nbformat_minor": 2
}
